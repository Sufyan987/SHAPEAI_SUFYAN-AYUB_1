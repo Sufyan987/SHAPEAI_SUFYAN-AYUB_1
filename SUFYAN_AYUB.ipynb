{
  "nbformat": 4,
  "nbformat_minor": 0,
  "metadata": {
    "colab": {
      "name": "SUFYAN AYUB.ipynb",
      "provenance": []
    },
    "kernelspec": {
      "name": "python3",
      "display_name": "Python 3"
    },
    "language_info": {
      "name": "python"
    }
  },
  "cells": [
    {
      "cell_type": "code",
      "metadata": {
        "colab": {
          "base_uri": "https://localhost:8080/"
        },
        "id": "nJPP-q2GLEIX",
        "outputId": "6abfa4cb-c1cb-42f5-c9bb-b54c361ad2cd"
      },
      "source": [
        "from keras.datasets import mnist             # importing the data\n",
        "data = mnist.load_data()                     # mnist is a module which can download the file loading the imported data"
      ],
      "execution_count": 1,
      "outputs": [
        {
          "output_type": "stream",
          "text": [
            "Downloading data from https://storage.googleapis.com/tensorflow/tf-keras-datasets/mnist.npz\n",
            "11493376/11490434 [==============================] - 0s 0us/step\n"
          ],
          "name": "stdout"
        }
      ]
    },
    {
      "cell_type": "code",
      "metadata": {
        "id": "gauo0G87Liu1"
      },
      "source": [
        "((X_train, y_train), (X_test, y_test)) = data          # data(which is a tuple) is guidebook, divide the datasets in to training data and testing data, x is data and y is label to data. Image consist of lot of pixcels(o for black and 255 for white in pixcels). Image will be explained on the form of numbers in 2D matrix in arrays."
      ],
      "execution_count": 3,
      "outputs": []
    },
    {
      "cell_type": "code",
      "metadata": {
        "colab": {
          "base_uri": "https://localhost:8080/"
        },
        "id": "e6czUnaNLsaj",
        "outputId": "a0c66371-1397-4127-bcc8-1b77329619d4"
      },
      "source": [
        "X_train[0].shape                             #shape of the training data which tells us the number of rows and columns of pixcels in an image\n",
        "                                             # convert 2D to 1D > (28,28)  (784,1) because we want 1D input"
      ],
      "execution_count": 4,
      "outputs": [
        {
          "output_type": "execute_result",
          "data": {
            "text/plain": [
              "(28, 28)"
            ]
          },
          "metadata": {
            "tags": []
          },
          "execution_count": 4
        }
      ]
    },
    {
      "cell_type": "code",
      "metadata": {
        "id": "_hAbtczyL542"
      },
      "source": [
        "X_train = X_train.reshape((X_train.shape[0], 28*28)).astype('float32')       # Reshape the training data\n",
        "X_test = X_test.reshape((X_test.shape[0], 28*28)).astype('float32')"
      ],
      "execution_count": 7,
      "outputs": []
    },
    {
      "cell_type": "code",
      "metadata": {
        "id": "0-sH8bPMMWyh"
      },
      "source": [
        "X_train = X_train / 255  # dividing pixcels by 255 and we are  normalizing values from 0-255 to 0-1\n",
        "X_test = X_test / 255"
      ],
      "execution_count": 8,
      "outputs": []
    },
    {
      "cell_type": "code",
      "metadata": {
        "colab": {
          "base_uri": "https://localhost:8080/"
        },
        "id": "PNwrWWn5MhhF",
        "outputId": "33151266-cb59-4891-a832-c0f6810b149c"
      },
      "source": [
        "from keras.utils import np_utils                       # output for deep learning will be 1 or 0\n",
        "print(y_test.shape)\n",
        "y_train = np_utils.to_categorical(y_train)\n",
        "y_test = np_utils.to_categorical(y_test)\n",
        "num_classes = y_test.shape[1]\n",
        "print(y_test.shape)                                   # all columns will contain 0s and 1s."
      ],
      "execution_count": 12,
      "outputs": [
        {
          "output_type": "stream",
          "text": [
            "(10000,)\n",
            "(10000, 10)\n"
          ],
          "name": "stdout"
        }
      ]
    },
    {
      "cell_type": "code",
      "metadata": {
        "id": "r1knYwLRNCPD"
      },
      "source": [
        "from keras.models import Sequential                   # layers present one after the other\n",
        "from keras.layers import Dense                        # all neurons will be connected to all other layer neurons           "
      ],
      "execution_count": 14,
      "outputs": []
    },
    {
      "cell_type": "code",
      "metadata": {
        "id": "ciJRqcFuNNbA"
      },
      "source": [
        "model = Sequential()                                          # Define the model\n",
        "model.add(Dense(32,input_dim = 28*28, activation='relu'))     # Add first hidden layer, 32 neurons in layer, Dense  all neurons of input layer are connected to all other neurons\n",
        "model.add(Dense(64 , activation='relu'))                      # Add second hidden layer, 64 neurons are present, activation here is relu\n",
        "model.add(Dense(10 , activation='softmax'))                   #Add output layer having 10 neurons  , activation is softmax\n"
      ],
      "execution_count": 17,
      "outputs": []
    },
    {
      "cell_type": "code",
      "metadata": {
        "id": "XHwSMthzNvQ2"
      },
      "source": [
        "model.compile(loss='categorical_crossentropy',optimizer='adam',metrics=['accuracy'])     # Compile the model"
      ],
      "execution_count": 21,
      "outputs": []
    },
    {
      "cell_type": "code",
      "metadata": {
        "colab": {
          "base_uri": "https://localhost:8080/"
        },
        "id": "dFqZSWw6N7Nu",
        "outputId": "a17e017f-afdd-4492-9a65-39a77a7b883f"
      },
      "source": [
        "model.summary()                                                       # Print Model summary"
      ],
      "execution_count": 22,
      "outputs": [
        {
          "output_type": "stream",
          "text": [
            "Model: \"sequential\"\n",
            "_________________________________________________________________\n",
            "Layer (type)                 Output Shape              Param #   \n",
            "=================================================================\n",
            "dense (Dense)                (None, 32)                25120     \n",
            "_________________________________________________________________\n",
            "dense_1 (Dense)              (None, 64)                2112      \n",
            "_________________________________________________________________\n",
            "dense_2 (Dense)              (None, 10)                650       \n",
            "=================================================================\n",
            "Total params: 27,882\n",
            "Trainable params: 27,882\n",
            "Non-trainable params: 0\n",
            "_________________________________________________________________\n"
          ],
          "name": "stdout"
        }
      ]
    },
    {
      "cell_type": "code",
      "metadata": {
        "colab": {
          "base_uri": "https://localhost:8080/"
        },
        "id": "oSAdGBLYNYxu",
        "outputId": "ac54e3cf-f119-4532-ef8e-a30493deacb2"
      },
      "source": [
        "model.fit(X_train, y_train, epochs=10, batch_size=100)               # read only 100 pages at a time,  epoch repeatedly read guidebook 10 times"
      ],
      "execution_count": 23,
      "outputs": [
        {
          "output_type": "stream",
          "text": [
            "Epoch 1/10\n",
            "600/600 [==============================] - 2s 2ms/step - loss: 0.7890 - accuracy: 0.7728\n",
            "Epoch 2/10\n",
            "600/600 [==============================] - 1s 2ms/step - loss: 0.2094 - accuracy: 0.9389\n",
            "Epoch 3/10\n",
            "600/600 [==============================] - 1s 2ms/step - loss: 0.1631 - accuracy: 0.9519\n",
            "Epoch 4/10\n",
            "600/600 [==============================] - 1s 2ms/step - loss: 0.1296 - accuracy: 0.9613\n",
            "Epoch 5/10\n",
            "600/600 [==============================] - 1s 2ms/step - loss: 0.1089 - accuracy: 0.9679\n",
            "Epoch 6/10\n",
            "600/600 [==============================] - 1s 2ms/step - loss: 0.0968 - accuracy: 0.9709\n",
            "Epoch 7/10\n",
            "600/600 [==============================] - 1s 2ms/step - loss: 0.0842 - accuracy: 0.9752\n",
            "Epoch 8/10\n",
            "600/600 [==============================] - 1s 2ms/step - loss: 0.0747 - accuracy: 0.9778\n",
            "Epoch 9/10\n",
            "600/600 [==============================] - 1s 2ms/step - loss: 0.0696 - accuracy: 0.9788\n",
            "Epoch 10/10\n",
            "600/600 [==============================] - 1s 2ms/step - loss: 0.0627 - accuracy: 0.9807\n"
          ],
          "name": "stdout"
        },
        {
          "output_type": "execute_result",
          "data": {
            "text/plain": [
              "<tensorflow.python.keras.callbacks.History at 0x7f1689a3f110>"
            ]
          },
          "metadata": {
            "tags": []
          },
          "execution_count": 23
        }
      ]
    },
    {
      "cell_type": "code",
      "metadata": {
        "colab": {
          "base_uri": "https://localhost:8080/"
        },
        "id": "yuV9Wj9xOX6K",
        "outputId": "55007632-5b90-4fe7-fe96-af36b7ff26fd"
      },
      "source": [
        "scores = model.evaluate(X_test, y_test) #evaluate model,accuracy  96.9%\n",
        "print(scores)"
      ],
      "execution_count": 24,
      "outputs": [
        {
          "output_type": "stream",
          "text": [
            "313/313 [==============================] - 0s 998us/step - loss: 0.1073 - accuracy: 0.9682\n",
            "[0.107342928647995, 0.9682000279426575]\n"
          ],
          "name": "stdout"
        }
      ]
    }
  ]
}